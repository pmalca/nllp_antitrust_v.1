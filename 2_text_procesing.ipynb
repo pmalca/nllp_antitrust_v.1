{
 "cells": [
  {
   "cell_type": "code",
   "execution_count": 1,
   "metadata": {},
   "outputs": [
    {
     "name": "stderr",
     "output_type": "stream",
     "text": [
      "C:\\Users\\PC\\AppData\\Local\\Temp\\ipykernel_21912\\217833862.py:1: DeprecationWarning: \n",
      "Pyarrow will become a required dependency of pandas in the next major release of pandas (pandas 3.0),\n",
      "(to allow more performant data types, such as the Arrow string type, and better interoperability with other libraries)\n",
      "but was not found to be installed on your system.\n",
      "If this would cause problems for you,\n",
      "please provide us feedback at https://github.com/pandas-dev/pandas/issues/54466\n",
      "        \n",
      "  import pandas as pd\n"
     ]
    }
   ],
   "source": [
    "import pandas as pd "
   ]
  },
  {
   "cell_type": "code",
   "execution_count": 3,
   "metadata": {},
   "outputs": [
    {
     "name": "stderr",
     "output_type": "stream",
     "text": [
      "C:\\Users\\PC\\AppData\\Local\\Temp\\ipykernel_21912\\2133272646.py:3: FutureWarning: DataFrame.applymap has been deprecated. Use DataFrame.map instead.\n",
      "  df = df.applymap(lambda x: x.replace('\\n', ' ') if isinstance(x, str) else x)\n"
     ]
    }
   ],
   "source": [
    "df = pd.read_csv(r'D:\\Proyectos\\nllp_antitrust.v1\\corpus.csv')\n",
    "df = df.dropna()\n",
    "df = df.applymap(lambda x: x.replace('\\n', ' ') if isinstance(x, str) else x)\n",
    "df = df.drop(columns=['Page', 'Text','nature_of_case','fact_summary'])\n",
    "df.reset_index(drop=True,inplace=True)"
   ]
  },
  {
   "cell_type": "code",
   "execution_count": 4,
   "metadata": {},
   "outputs": [
    {
     "data": {
      "text/html": [
       "<div>\n",
       "<style scoped>\n",
       "    .dataframe tbody tr th:only-of-type {\n",
       "        vertical-align: middle;\n",
       "    }\n",
       "\n",
       "    .dataframe tbody tr th {\n",
       "        vertical-align: top;\n",
       "    }\n",
       "\n",
       "    .dataframe thead th {\n",
       "        text-align: right;\n",
       "    }\n",
       "</style>\n",
       "<table border=\"1\" class=\"dataframe\">\n",
       "  <thead>\n",
       "    <tr style=\"text-align: right;\">\n",
       "      <th></th>\n",
       "      <th>case_name</th>\n",
       "      <th>rule_of_law</th>\n",
       "    </tr>\n",
       "  </thead>\n",
       "  <tbody>\n",
       "    <tr>\n",
       "      <th>0</th>\n",
       "      <td>United States v. Trans-Missouri Freight Assn. ...</td>\n",
       "      <td>The Sherman Act’s prohibition on agreements in...</td>\n",
       "    </tr>\n",
       "    <tr>\n",
       "      <th>1</th>\n",
       "      <td>United States v. Addyston Pipe &amp; Steel Co. Fed...</td>\n",
       "      <td>A combination with the sole purpose to regulat...</td>\n",
       "    </tr>\n",
       "    <tr>\n",
       "      <th>2</th>\n",
       "      <td>Summit Health, Ltd. v. Pinhas Health care oper...</td>\n",
       "      <td>Violation of the Sherman Act is determined by ...</td>\n",
       "    </tr>\n",
       "    <tr>\n",
       "      <th>3</th>\n",
       "      <td>Illinois Brick Co. v. Illinois Manufacturer (D...</td>\n",
       "      <td>Only direct purchasers from those engaged in u...</td>\n",
       "    </tr>\n",
       "    <tr>\n",
       "      <th>4</th>\n",
       "      <td>Reiter v. Sonotone Corp. Consumer (P) v. Manuf...</td>\n",
       "      <td>A consumer of retail goods and services has st...</td>\n",
       "    </tr>\n",
       "    <tr>\n",
       "      <th>...</th>\n",
       "      <td>...</td>\n",
       "      <td>...</td>\n",
       "    </tr>\n",
       "    <tr>\n",
       "      <th>104</th>\n",
       "      <td>Fisher v. City of Berkeley Landlord (P) v. Cit...</td>\n",
       "      <td>Rent control ordinances do not conflict with f...</td>\n",
       "    </tr>\n",
       "    <tr>\n",
       "      <th>105</th>\n",
       "      <td>California Retail Liquor Dealers Assn. v. Midc...</td>\n",
       "      <td>A state policy is immune from antitrust regula...</td>\n",
       "    </tr>\n",
       "    <tr>\n",
       "      <th>106</th>\n",
       "      <td>Hallie v. City of Eau Claire Unincorporated to...</td>\n",
       "      <td>A municipality’s anticompetitive activities ar...</td>\n",
       "    </tr>\n",
       "    <tr>\n",
       "      <th>107</th>\n",
       "      <td>City of Columbia &amp; Columbia Outdoor Advertisin...</td>\n",
       "      <td>A city may, through regulation, give a busines...</td>\n",
       "    </tr>\n",
       "    <tr>\n",
       "      <th>108</th>\n",
       "      <td>FTC v. Ticor Title Insurance Co. Federal agenc...</td>\n",
       "      <td>In order to receive immunity from the applicat...</td>\n",
       "    </tr>\n",
       "  </tbody>\n",
       "</table>\n",
       "<p>109 rows × 2 columns</p>\n",
       "</div>"
      ],
      "text/plain": [
       "                                             case_name  \\\n",
       "0    United States v. Trans-Missouri Freight Assn. ...   \n",
       "1    United States v. Addyston Pipe & Steel Co. Fed...   \n",
       "2    Summit Health, Ltd. v. Pinhas Health care oper...   \n",
       "3    Illinois Brick Co. v. Illinois Manufacturer (D...   \n",
       "4    Reiter v. Sonotone Corp. Consumer (P) v. Manuf...   \n",
       "..                                                 ...   \n",
       "104  Fisher v. City of Berkeley Landlord (P) v. Cit...   \n",
       "105  California Retail Liquor Dealers Assn. v. Midc...   \n",
       "106  Hallie v. City of Eau Claire Unincorporated to...   \n",
       "107  City of Columbia & Columbia Outdoor Advertisin...   \n",
       "108  FTC v. Ticor Title Insurance Co. Federal agenc...   \n",
       "\n",
       "                                           rule_of_law  \n",
       "0    The Sherman Act’s prohibition on agreements in...  \n",
       "1    A combination with the sole purpose to regulat...  \n",
       "2    Violation of the Sherman Act is determined by ...  \n",
       "3    Only direct purchasers from those engaged in u...  \n",
       "4    A consumer of retail goods and services has st...  \n",
       "..                                                 ...  \n",
       "104  Rent control ordinances do not conflict with f...  \n",
       "105  A state policy is immune from antitrust regula...  \n",
       "106  A municipality’s anticompetitive activities ar...  \n",
       "107  A city may, through regulation, give a busines...  \n",
       "108  In order to receive immunity from the applicat...  \n",
       "\n",
       "[109 rows x 2 columns]"
      ]
     },
     "execution_count": 4,
     "metadata": {},
     "output_type": "execute_result"
    }
   ],
   "source": [
    "df"
   ]
  },
  {
   "cell_type": "code",
   "execution_count": 5,
   "metadata": {},
   "outputs": [
    {
     "name": "stderr",
     "output_type": "stream",
     "text": [
      "[nltk_data] Downloading package punkt to\n",
      "[nltk_data]     C:\\Users\\PC\\AppData\\Roaming\\nltk_data...\n",
      "[nltk_data]   Package punkt is already up-to-date!\n",
      "[nltk_data] Downloading package stopwords to\n",
      "[nltk_data]     C:\\Users\\PC\\AppData\\Roaming\\nltk_data...\n",
      "[nltk_data]   Package stopwords is already up-to-date!\n",
      "[nltk_data] Downloading package wordnet to\n",
      "[nltk_data]     C:\\Users\\PC\\AppData\\Roaming\\nltk_data...\n",
      "[nltk_data]   Package wordnet is already up-to-date!\n"
     ]
    }
   ],
   "source": [
    "import nltk\n",
    "nltk.download(\"punkt\")\n",
    "nltk.download(\"stopwords\")\n",
    "nltk.download(\"wordnet\")\n",
    "from nltk import word_tokenize, FreqDist\n",
    "from nltk.corpus import stopwords\n",
    "from nltk.stem import WordNetLemmatizer"
   ]
  },
  {
   "cell_type": "code",
   "execution_count": 6,
   "metadata": {},
   "outputs": [],
   "source": [
    "stop_words = set(stopwords.words(\"english\"))\n",
    "lemmatizer = WordNetLemmatizer()\n",
    "\n",
    "def text_preprocess(text: str) -> str:\n",
    "    tokens = [lemmatizer.lemmatize(token) for token in word_tokenize(text.lower()) if (token.isalpha() and (token not in stop_words or token == \"per\" or token == \"se\"))]\n",
    "\n",
    "    return ' '.join(tokens)"
   ]
  },
  {
   "cell_type": "code",
   "execution_count": 7,
   "metadata": {},
   "outputs": [],
   "source": [
    "df[\"rol_preprocessed\"] = df.rule_of_law.apply(text_preprocess)"
   ]
  },
  {
   "cell_type": "code",
   "execution_count": 10,
   "metadata": {},
   "outputs": [
    {
     "data": {
      "text/html": [
       "<div>\n",
       "<style scoped>\n",
       "    .dataframe tbody tr th:only-of-type {\n",
       "        vertical-align: middle;\n",
       "    }\n",
       "\n",
       "    .dataframe tbody tr th {\n",
       "        vertical-align: top;\n",
       "    }\n",
       "\n",
       "    .dataframe thead th {\n",
       "        text-align: right;\n",
       "    }\n",
       "</style>\n",
       "<table border=\"1\" class=\"dataframe\">\n",
       "  <thead>\n",
       "    <tr style=\"text-align: right;\">\n",
       "      <th></th>\n",
       "      <th>case_name</th>\n",
       "      <th>rule_of_law</th>\n",
       "      <th>rol_preprocessed</th>\n",
       "    </tr>\n",
       "  </thead>\n",
       "  <tbody>\n",
       "    <tr>\n",
       "      <th>0</th>\n",
       "      <td>United States v. Trans-Missouri Freight Assn. ...</td>\n",
       "      <td>The Sherman Act’s prohibition on agreements in...</td>\n",
       "      <td>sherman act prohibition agreement restraint tr...</td>\n",
       "    </tr>\n",
       "    <tr>\n",
       "      <th>1</th>\n",
       "      <td>United States v. Addyston Pipe &amp; Steel Co. Fed...</td>\n",
       "      <td>A combination with the sole purpose to regulat...</td>\n",
       "      <td>combination sole purpose regulate price violat...</td>\n",
       "    </tr>\n",
       "    <tr>\n",
       "      <th>2</th>\n",
       "      <td>Summit Health, Ltd. v. Pinhas Health care oper...</td>\n",
       "      <td>Violation of the Sherman Act is determined by ...</td>\n",
       "      <td>violation sherman act determined potential har...</td>\n",
       "    </tr>\n",
       "    <tr>\n",
       "      <th>3</th>\n",
       "      <td>Illinois Brick Co. v. Illinois Manufacturer (D...</td>\n",
       "      <td>Only direct purchasers from those engaged in u...</td>\n",
       "      <td>direct purchaser engaged unlawful manufacturin...</td>\n",
       "    </tr>\n",
       "    <tr>\n",
       "      <th>4</th>\n",
       "      <td>Reiter v. Sonotone Corp. Consumer (P) v. Manuf...</td>\n",
       "      <td>A consumer of retail goods and services has st...</td>\n",
       "      <td>consumer retail good service standing sue dama...</td>\n",
       "    </tr>\n",
       "    <tr>\n",
       "      <th>...</th>\n",
       "      <td>...</td>\n",
       "      <td>...</td>\n",
       "      <td>...</td>\n",
       "    </tr>\n",
       "    <tr>\n",
       "      <th>104</th>\n",
       "      <td>Fisher v. City of Berkeley Landlord (P) v. Cit...</td>\n",
       "      <td>Rent control ordinances do not conflict with f...</td>\n",
       "      <td>rent control ordinance conflict federal antitr...</td>\n",
       "    </tr>\n",
       "    <tr>\n",
       "      <th>105</th>\n",
       "      <td>California Retail Liquor Dealers Assn. v. Midc...</td>\n",
       "      <td>A state policy is immune from antitrust regula...</td>\n",
       "      <td>state policy immune antitrust regulation clear...</td>\n",
       "    </tr>\n",
       "    <tr>\n",
       "      <th>106</th>\n",
       "      <td>Hallie v. City of Eau Claire Unincorporated to...</td>\n",
       "      <td>A municipality’s anticompetitive activities ar...</td>\n",
       "      <td>municipality anticompetitive activity protecte...</td>\n",
       "    </tr>\n",
       "    <tr>\n",
       "      <th>107</th>\n",
       "      <td>City of Columbia &amp; Columbia Outdoor Advertisin...</td>\n",
       "      <td>A city may, through regulation, give a busines...</td>\n",
       "      <td>city may regulation give business concern de f...</td>\n",
       "    </tr>\n",
       "    <tr>\n",
       "      <th>108</th>\n",
       "      <td>FTC v. Ticor Title Insurance Co. Federal agenc...</td>\n",
       "      <td>In order to receive immunity from the applicat...</td>\n",
       "      <td>order receive immunity application antitrust l...</td>\n",
       "    </tr>\n",
       "  </tbody>\n",
       "</table>\n",
       "<p>109 rows × 3 columns</p>\n",
       "</div>"
      ],
      "text/plain": [
       "                                             case_name  \\\n",
       "0    United States v. Trans-Missouri Freight Assn. ...   \n",
       "1    United States v. Addyston Pipe & Steel Co. Fed...   \n",
       "2    Summit Health, Ltd. v. Pinhas Health care oper...   \n",
       "3    Illinois Brick Co. v. Illinois Manufacturer (D...   \n",
       "4    Reiter v. Sonotone Corp. Consumer (P) v. Manuf...   \n",
       "..                                                 ...   \n",
       "104  Fisher v. City of Berkeley Landlord (P) v. Cit...   \n",
       "105  California Retail Liquor Dealers Assn. v. Midc...   \n",
       "106  Hallie v. City of Eau Claire Unincorporated to...   \n",
       "107  City of Columbia & Columbia Outdoor Advertisin...   \n",
       "108  FTC v. Ticor Title Insurance Co. Federal agenc...   \n",
       "\n",
       "                                           rule_of_law  \\\n",
       "0    The Sherman Act’s prohibition on agreements in...   \n",
       "1    A combination with the sole purpose to regulat...   \n",
       "2    Violation of the Sherman Act is determined by ...   \n",
       "3    Only direct purchasers from those engaged in u...   \n",
       "4    A consumer of retail goods and services has st...   \n",
       "..                                                 ...   \n",
       "104  Rent control ordinances do not conflict with f...   \n",
       "105  A state policy is immune from antitrust regula...   \n",
       "106  A municipality’s anticompetitive activities ar...   \n",
       "107  A city may, through regulation, give a busines...   \n",
       "108  In order to receive immunity from the applicat...   \n",
       "\n",
       "                                      rol_preprocessed  \n",
       "0    sherman act prohibition agreement restraint tr...  \n",
       "1    combination sole purpose regulate price violat...  \n",
       "2    violation sherman act determined potential har...  \n",
       "3    direct purchaser engaged unlawful manufacturin...  \n",
       "4    consumer retail good service standing sue dama...  \n",
       "..                                                 ...  \n",
       "104  rent control ordinance conflict federal antitr...  \n",
       "105  state policy immune antitrust regulation clear...  \n",
       "106  municipality anticompetitive activity protecte...  \n",
       "107  city may regulation give business concern de f...  \n",
       "108  order receive immunity application antitrust l...  \n",
       "\n",
       "[109 rows x 3 columns]"
      ]
     },
     "execution_count": 10,
     "metadata": {},
     "output_type": "execute_result"
    }
   ],
   "source": [
    "df"
   ]
  },
  {
   "cell_type": "code",
   "execution_count": 9,
   "metadata": {},
   "outputs": [],
   "source": [
    "df.to_csv(r'D:\\Proyectos\\nllp_antitrust.v1\\corpus_rol.csv', index=False)"
   ]
  },
  {
   "cell_type": "markdown",
   "metadata": {},
   "source": [
    "3. We will create de document term matrix"
   ]
  },
  {
   "cell_type": "code",
   "execution_count": 12,
   "metadata": {},
   "outputs": [],
   "source": [
    "from sklearn.feature_extraction.text import CountVectorizer\n",
    "vec = CountVectorizer(min_df=0.01, # at min 1% of docs\n",
    "                        max_df=.9,  \n",
    "                        max_features=20,\n",
    "                        ngram_range=(1,2))\n",
    "X = vec.fit_transform(df['rol_preprocessed'])\n",
    "\n",
    "# save the vectors\n",
    "pd.to_pickle(X,r'D:\\Proyectos\\nllp_antitrust.v1\\X.pkl')\n",
    "\n",
    "# Do more research in this regard \n"
   ]
  }
 ],
 "metadata": {
  "kernelspec": {
   "display_name": "nllp_antitrust_v.1",
   "language": "python",
   "name": "python3"
  },
  "language_info": {
   "codemirror_mode": {
    "name": "ipython",
    "version": 3
   },
   "file_extension": ".py",
   "mimetype": "text/x-python",
   "name": "python",
   "nbconvert_exporter": "python",
   "pygments_lexer": "ipython3",
   "version": "3.12.1"
  }
 },
 "nbformat": 4,
 "nbformat_minor": 2
}
