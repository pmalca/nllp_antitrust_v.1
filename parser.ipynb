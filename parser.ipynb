{
 "cells": [
  {
   "cell_type": "code",
   "execution_count": 39,
   "metadata": {},
   "outputs": [],
   "source": [
    "import pandas as pd\n",
    "import regex as re\n",
    "import PyPDF2\n",
    "import numpy as np\n"
   ]
  },
  {
   "cell_type": "code",
   "execution_count": 9,
   "metadata": {},
   "outputs": [],
   "source": [
    "\n",
    "def extract_text_from_pdf(pdf_path):\n",
    "    try:\n",
    "        # Open the PDF file in binary mode\n",
    "        with open(pdf_path, 'rb') as file:\n",
    "            # Create a PDF reader object\n",
    "            pdf_reader = PyPDF2.PdfReader(file)\n",
    "\n",
    "            # Get the number of pages in the PDF\n",
    "            num_pages = len(pdf_reader.pages)\n",
    "\n",
    "            # Initialize a list to store the extracted text from each page\n",
    "            text_list = []\n",
    "\n",
    "            # Loop through all pages and extract text\n",
    "            for page_num in range(num_pages):\n",
    "                page = pdf_reader.pages[page_num]\n",
    "                text_list.append(page.extract_text())\n",
    "\n",
    "            return text_list\n",
    "\n",
    "    except Exception as e:\n",
    "        print(f\"An error occurred: {str(e)}\")\n",
    "        return None\n"
   ]
  },
  {
   "cell_type": "code",
   "execution_count": 10,
   "metadata": {},
   "outputs": [
    {
     "name": "stdout",
     "output_type": "stream",
     "text": [
      "     Page                                               Text\n",
      "0       1                                                   \n",
      "1       2                                                  2\n",
      "2       3  This publication is designed to provide accura...\n",
      "3       4  About Wolters Kluwer Law & Business\\nWolters K...\n",
      "4       5                                                  5\n",
      "..    ...                                                ...\n",
      "248   249  Common Latin Words and Phrases Encountered in ...\n",
      "249   250  LEX LOCI:\\n The law of the place; the notion t...\n",
      "250   251  Casenote Legal Briefs\\nAdministrative Law\\nBre...\n",
      "251   252  Contracts\\nDawson, Harvey, Henderson & Baird\\n...\n",
      "252   253  International Law\\nDamrosch, Henkin, Murphy & ...\n",
      "\n",
      "[253 rows x 2 columns]\n"
     ]
    }
   ],
   "source": [
    "# Example usage\n",
    "pdf_path = r'D:\\Proyectos\\nllp_antitrust.v1\\SHS. Casenote Legal Briefs - Casenote Legal Briefs_ Antitrust Keyed to Sullivan, Hovencamp & S.pdf'\n",
    "extracted_text_list = extract_text_from_pdf(pdf_path)\n",
    "\n",
    "if extracted_text_list:\n",
    "    # Create a pandas DataFrame from the extracted text\n",
    "    df = pd.DataFrame({'Page': range(1, len(extracted_text_list) + 1),\n",
    "                       'Text': extracted_text_list})\n",
    "    \n",
    "    # Display the DataFrame\n",
    "    print(df)\n",
    "\n",
    "    # You can also save the DataFrame to a CSV file if needed\n",
    "    # df.to_csv('output.csv', index=False)\n",
    "else:\n",
    "    print(\"Failed to extract text from the PDF.\")\n"
   ]
  },
  {
   "cell_type": "code",
   "execution_count": 11,
   "metadata": {},
   "outputs": [],
   "source": [
    "df.to_csv(r'D:\\Proyectos\\nllp_antitrust.v1\\book_raw.csv', index=False)"
   ]
  },
  {
   "cell_type": "markdown",
   "metadata": {},
   "source": [
    "Fase 2"
   ]
  },
  {
   "cell_type": "code",
   "execution_count": 13,
   "metadata": {},
   "outputs": [],
   "source": [
    "df_raw = pd.read_csv(r'D:\\Proyectos\\nllp_antitrust.v1\\book_raw.csv')"
   ]
  },
  {
   "cell_type": "code",
   "execution_count": 27,
   "metadata": {},
   "outputs": [],
   "source": [
    "df_raw.dropna(subset=['Text'], inplace=True)"
   ]
  },
  {
   "cell_type": "code",
   "execution_count": 28,
   "metadata": {},
   "outputs": [
    {
     "data": {
      "text/html": [
       "<div>\n",
       "<style scoped>\n",
       "    .dataframe tbody tr th:only-of-type {\n",
       "        vertical-align: middle;\n",
       "    }\n",
       "\n",
       "    .dataframe tbody tr th {\n",
       "        vertical-align: top;\n",
       "    }\n",
       "\n",
       "    .dataframe thead th {\n",
       "        text-align: right;\n",
       "    }\n",
       "</style>\n",
       "<table border=\"1\" class=\"dataframe\">\n",
       "  <thead>\n",
       "    <tr style=\"text-align: right;\">\n",
       "      <th></th>\n",
       "      <th>Page</th>\n",
       "      <th>Text</th>\n",
       "    </tr>\n",
       "  </thead>\n",
       "  <tbody>\n",
       "    <tr>\n",
       "      <th>1</th>\n",
       "      <td>2</td>\n",
       "      <td>2</td>\n",
       "    </tr>\n",
       "    <tr>\n",
       "      <th>2</th>\n",
       "      <td>3</td>\n",
       "      <td>This publication is designed to provide accura...</td>\n",
       "    </tr>\n",
       "    <tr>\n",
       "      <th>3</th>\n",
       "      <td>4</td>\n",
       "      <td>About Wolters Kluwer Law &amp; Business\\nWolters K...</td>\n",
       "    </tr>\n",
       "    <tr>\n",
       "      <th>4</th>\n",
       "      <td>5</td>\n",
       "      <td>5</td>\n",
       "    </tr>\n",
       "    <tr>\n",
       "      <th>5</th>\n",
       "      <td>6</td>\n",
       "      <td>Aspen Publishers is proud to offer \\nCasenote ...</td>\n",
       "    </tr>\n",
       "    <tr>\n",
       "      <th>...</th>\n",
       "      <td>...</td>\n",
       "      <td>...</td>\n",
       "    </tr>\n",
       "    <tr>\n",
       "      <th>248</th>\n",
       "      <td>249</td>\n",
       "      <td>Common Latin Words and Phrases Encountered in ...</td>\n",
       "    </tr>\n",
       "    <tr>\n",
       "      <th>249</th>\n",
       "      <td>250</td>\n",
       "      <td>LEX LOCI:\\n The law of the place; the notion t...</td>\n",
       "    </tr>\n",
       "    <tr>\n",
       "      <th>250</th>\n",
       "      <td>251</td>\n",
       "      <td>Casenote Legal Briefs\\nAdministrative Law\\nBre...</td>\n",
       "    </tr>\n",
       "    <tr>\n",
       "      <th>251</th>\n",
       "      <td>252</td>\n",
       "      <td>Contracts\\nDawson, Harvey, Henderson &amp; Baird\\n...</td>\n",
       "    </tr>\n",
       "    <tr>\n",
       "      <th>252</th>\n",
       "      <td>253</td>\n",
       "      <td>International Law\\nDamrosch, Henkin, Murphy &amp; ...</td>\n",
       "    </tr>\n",
       "  </tbody>\n",
       "</table>\n",
       "<p>252 rows × 2 columns</p>\n",
       "</div>"
      ],
      "text/plain": [
       "     Page                                               Text\n",
       "1       2                                                  2\n",
       "2       3  This publication is designed to provide accura...\n",
       "3       4  About Wolters Kluwer Law & Business\\nWolters K...\n",
       "4       5                                                  5\n",
       "5       6  Aspen Publishers is proud to offer \\nCasenote ...\n",
       "..    ...                                                ...\n",
       "248   249  Common Latin Words and Phrases Encountered in ...\n",
       "249   250  LEX LOCI:\\n The law of the place; the notion t...\n",
       "250   251  Casenote Legal Briefs\\nAdministrative Law\\nBre...\n",
       "251   252  Contracts\\nDawson, Harvey, Henderson & Baird\\n...\n",
       "252   253  International Law\\nDamrosch, Henkin, Murphy & ...\n",
       "\n",
       "[252 rows x 2 columns]"
      ]
     },
     "execution_count": 28,
     "metadata": {},
     "output_type": "execute_result"
    }
   ],
   "source": [
    "df_raw"
   ]
  },
  {
   "cell_type": "code",
   "execution_count": 29,
   "metadata": {},
   "outputs": [
    {
     "data": {
      "text/plain": [
       "<bound method DataFrame.info of      Page                                               Text\n",
       "1       2                                                  2\n",
       "2       3  This publication is designed to provide accura...\n",
       "3       4  About Wolters Kluwer Law & Business\\nWolters K...\n",
       "4       5                                                  5\n",
       "5       6  Aspen Publishers is proud to offer \\nCasenote ...\n",
       "..    ...                                                ...\n",
       "248   249  Common Latin Words and Phrases Encountered in ...\n",
       "249   250  LEX LOCI:\\n The law of the place; the notion t...\n",
       "250   251  Casenote Legal Briefs\\nAdministrative Law\\nBre...\n",
       "251   252  Contracts\\nDawson, Harvey, Henderson & Baird\\n...\n",
       "252   253  International Law\\nDamrosch, Henkin, Murphy & ...\n",
       "\n",
       "[252 rows x 2 columns]>"
      ]
     },
     "execution_count": 29,
     "metadata": {},
     "output_type": "execute_result"
    }
   ],
   "source": [
    "df_raw.info"
   ]
  },
  {
   "cell_type": "code",
   "execution_count": 30,
   "metadata": {},
   "outputs": [],
   "source": [
    "def check_rule_of_law(text):\n",
    "    pattern = re.compile(r'\\bRule of Law\\b', flags=re.IGNORECASE)\n",
    "    return bool(re.search(pattern, text))"
   ]
  },
  {
   "cell_type": "code",
   "execution_count": 31,
   "metadata": {},
   "outputs": [],
   "source": [
    "df_raw['rule_of_law_present'] = df_raw['Text'].apply(check_rule_of_law)\n"
   ]
  },
  {
   "cell_type": "code",
   "execution_count": 34,
   "metadata": {},
   "outputs": [
    {
     "data": {
      "text/plain": [
       "rule_of_law_present\n",
       "False    137\n",
       "True     115\n",
       "Name: count, dtype: int64"
      ]
     },
     "execution_count": 34,
     "metadata": {},
     "output_type": "execute_result"
    }
   ],
   "source": [
    "df_raw_counts = df_raw['rule_of_law_present'].value_counts()\n",
    "df_raw_counts"
   ]
  },
  {
   "cell_type": "code",
   "execution_count": 35,
   "metadata": {},
   "outputs": [
    {
     "data": {
      "text/html": [
       "<div>\n",
       "<style scoped>\n",
       "    .dataframe tbody tr th:only-of-type {\n",
       "        vertical-align: middle;\n",
       "    }\n",
       "\n",
       "    .dataframe tbody tr th {\n",
       "        vertical-align: top;\n",
       "    }\n",
       "\n",
       "    .dataframe thead th {\n",
       "        text-align: right;\n",
       "    }\n",
       "</style>\n",
       "<table border=\"1\" class=\"dataframe\">\n",
       "  <thead>\n",
       "    <tr style=\"text-align: right;\">\n",
       "      <th></th>\n",
       "      <th>Page</th>\n",
       "      <th>Text</th>\n",
       "      <th>rule_of_law_present</th>\n",
       "    </tr>\n",
       "  </thead>\n",
       "  <tbody>\n",
       "    <tr>\n",
       "      <th>6</th>\n",
       "      <td>7</td>\n",
       "      <td>A. Decide on a Format and Stick to It\\nStructu...</td>\n",
       "      <td>True</td>\n",
       "    </tr>\n",
       "    <tr>\n",
       "      <th>7</th>\n",
       "      <td>8</td>\n",
       "      <td>in the case. Collateral issues not necessary t...</td>\n",
       "      <td>True</td>\n",
       "    </tr>\n",
       "    <tr>\n",
       "      <th>8</th>\n",
       "      <td>9</td>\n",
       "      <td>portions of the case and placing in the margin...</td>\n",
       "      <td>True</td>\n",
       "    </tr>\n",
       "    <tr>\n",
       "      <th>16</th>\n",
       "      <td>17</td>\n",
       "      <td>United States v. Trans-Missouri Freight Assn.\\...</td>\n",
       "      <td>True</td>\n",
       "    </tr>\n",
       "    <tr>\n",
       "      <th>17</th>\n",
       "      <td>18</td>\n",
       "      <td>United States v. Addyston Pipe &amp; Steel Co.\\nFe...</td>\n",
       "      <td>True</td>\n",
       "    </tr>\n",
       "    <tr>\n",
       "      <th>...</th>\n",
       "      <td>...</td>\n",
       "      <td>...</td>\n",
       "      <td>...</td>\n",
       "    </tr>\n",
       "    <tr>\n",
       "      <th>242</th>\n",
       "      <td>243</td>\n",
       "      <td>California Retail Liquor Dealers Assn. v. Midc...</td>\n",
       "      <td>True</td>\n",
       "    </tr>\n",
       "    <tr>\n",
       "      <th>243</th>\n",
       "      <td>244</td>\n",
       "      <td>Hallie v. City of Eau Claire\\nUnincorporated t...</td>\n",
       "      <td>True</td>\n",
       "    </tr>\n",
       "    <tr>\n",
       "      <th>245</th>\n",
       "      <td>246</td>\n",
       "      <td>City of Columbia &amp; Columbia Outdoor Advertisin...</td>\n",
       "      <td>True</td>\n",
       "    </tr>\n",
       "    <tr>\n",
       "      <th>247</th>\n",
       "      <td>248</td>\n",
       "      <td>FTC v. Ticor Title Insurance Co.\\nFederal agen...</td>\n",
       "      <td>True</td>\n",
       "    </tr>\n",
       "    <tr>\n",
       "      <th>248</th>\n",
       "      <td>249</td>\n",
       "      <td>Common Latin Words and Phrases Encountered in ...</td>\n",
       "      <td>True</td>\n",
       "    </tr>\n",
       "  </tbody>\n",
       "</table>\n",
       "<p>115 rows × 3 columns</p>\n",
       "</div>"
      ],
      "text/plain": [
       "     Page                                               Text  \\\n",
       "6       7  A. Decide on a Format and Stick to It\\nStructu...   \n",
       "7       8  in the case. Collateral issues not necessary t...   \n",
       "8       9  portions of the case and placing in the margin...   \n",
       "16     17  United States v. Trans-Missouri Freight Assn.\\...   \n",
       "17     18  United States v. Addyston Pipe & Steel Co.\\nFe...   \n",
       "..    ...                                                ...   \n",
       "242   243  California Retail Liquor Dealers Assn. v. Midc...   \n",
       "243   244  Hallie v. City of Eau Claire\\nUnincorporated t...   \n",
       "245   246  City of Columbia & Columbia Outdoor Advertisin...   \n",
       "247   248  FTC v. Ticor Title Insurance Co.\\nFederal agen...   \n",
       "248   249  Common Latin Words and Phrases Encountered in ...   \n",
       "\n",
       "     rule_of_law_present  \n",
       "6                   True  \n",
       "7                   True  \n",
       "8                   True  \n",
       "16                  True  \n",
       "17                  True  \n",
       "..                   ...  \n",
       "242                 True  \n",
       "243                 True  \n",
       "245                 True  \n",
       "247                 True  \n",
       "248                 True  \n",
       "\n",
       "[115 rows x 3 columns]"
      ]
     },
     "execution_count": 35,
     "metadata": {},
     "output_type": "execute_result"
    }
   ],
   "source": [
    "df_r_l = df_raw[df_raw['rule_of_law_present'] == True]\n",
    "df_r_l"
   ]
  },
  {
   "cell_type": "markdown",
   "metadata": {},
   "source": [
    "Manera de hacerlo 2"
   ]
  },
  {
   "cell_type": "code",
   "execution_count": 36,
   "metadata": {},
   "outputs": [],
   "source": [
    "df_raw_2 = pd.read_csv(r'D:\\Proyectos\\nllp_antitrust.v1\\book_raw.csv')"
   ]
  },
  {
   "cell_type": "code",
   "execution_count": 37,
   "metadata": {},
   "outputs": [
    {
     "data": {
      "text/html": [
       "<div>\n",
       "<style scoped>\n",
       "    .dataframe tbody tr th:only-of-type {\n",
       "        vertical-align: middle;\n",
       "    }\n",
       "\n",
       "    .dataframe tbody tr th {\n",
       "        vertical-align: top;\n",
       "    }\n",
       "\n",
       "    .dataframe thead th {\n",
       "        text-align: right;\n",
       "    }\n",
       "</style>\n",
       "<table border=\"1\" class=\"dataframe\">\n",
       "  <thead>\n",
       "    <tr style=\"text-align: right;\">\n",
       "      <th></th>\n",
       "      <th>Page</th>\n",
       "      <th>Text</th>\n",
       "    </tr>\n",
       "  </thead>\n",
       "  <tbody>\n",
       "    <tr>\n",
       "      <th>0</th>\n",
       "      <td>1</td>\n",
       "      <td>NaN</td>\n",
       "    </tr>\n",
       "    <tr>\n",
       "      <th>1</th>\n",
       "      <td>2</td>\n",
       "      <td>2</td>\n",
       "    </tr>\n",
       "    <tr>\n",
       "      <th>2</th>\n",
       "      <td>3</td>\n",
       "      <td>This publication is designed to provide accura...</td>\n",
       "    </tr>\n",
       "    <tr>\n",
       "      <th>3</th>\n",
       "      <td>4</td>\n",
       "      <td>About Wolters Kluwer Law &amp; Business\\nWolters K...</td>\n",
       "    </tr>\n",
       "    <tr>\n",
       "      <th>4</th>\n",
       "      <td>5</td>\n",
       "      <td>5</td>\n",
       "    </tr>\n",
       "    <tr>\n",
       "      <th>...</th>\n",
       "      <td>...</td>\n",
       "      <td>...</td>\n",
       "    </tr>\n",
       "    <tr>\n",
       "      <th>248</th>\n",
       "      <td>249</td>\n",
       "      <td>Common Latin Words and Phrases Encountered in ...</td>\n",
       "    </tr>\n",
       "    <tr>\n",
       "      <th>249</th>\n",
       "      <td>250</td>\n",
       "      <td>LEX LOCI:\\n The law of the place; the notion t...</td>\n",
       "    </tr>\n",
       "    <tr>\n",
       "      <th>250</th>\n",
       "      <td>251</td>\n",
       "      <td>Casenote Legal Briefs\\nAdministrative Law\\nBre...</td>\n",
       "    </tr>\n",
       "    <tr>\n",
       "      <th>251</th>\n",
       "      <td>252</td>\n",
       "      <td>Contracts\\nDawson, Harvey, Henderson &amp; Baird\\n...</td>\n",
       "    </tr>\n",
       "    <tr>\n",
       "      <th>252</th>\n",
       "      <td>253</td>\n",
       "      <td>International Law\\nDamrosch, Henkin, Murphy &amp; ...</td>\n",
       "    </tr>\n",
       "  </tbody>\n",
       "</table>\n",
       "<p>253 rows × 2 columns</p>\n",
       "</div>"
      ],
      "text/plain": [
       "     Page                                               Text\n",
       "0       1                                                NaN\n",
       "1       2                                                  2\n",
       "2       3  This publication is designed to provide accura...\n",
       "3       4  About Wolters Kluwer Law & Business\\nWolters K...\n",
       "4       5                                                  5\n",
       "..    ...                                                ...\n",
       "248   249  Common Latin Words and Phrases Encountered in ...\n",
       "249   250  LEX LOCI:\\n The law of the place; the notion t...\n",
       "250   251  Casenote Legal Briefs\\nAdministrative Law\\nBre...\n",
       "251   252  Contracts\\nDawson, Harvey, Henderson & Baird\\n...\n",
       "252   253  International Law\\nDamrosch, Henkin, Murphy & ...\n",
       "\n",
       "[253 rows x 2 columns]"
      ]
     },
     "execution_count": 37,
     "metadata": {},
     "output_type": "execute_result"
    }
   ],
   "source": [
    "df_raw_2"
   ]
  },
  {
   "cell_type": "code",
   "execution_count": 44,
   "metadata": {},
   "outputs": [],
   "source": [
    "df_raw_2 = df_raw_2[(df_raw_2['Page'] >= 17) & (df_raw_2['Page'] <= 248)]\n",
    "df_raw_2.to_csv(r'D:\\Proyectos\\nllp_antitrust.v1\\book.csv', index=False)"
   ]
  },
  {
   "cell_type": "markdown",
   "metadata": {},
   "source": [
    "Fase 3"
   ]
  },
  {
   "cell_type": "code",
   "execution_count": 174,
   "metadata": {},
   "outputs": [
    {
     "data": {
      "text/html": [
       "<div>\n",
       "<style scoped>\n",
       "    .dataframe tbody tr th:only-of-type {\n",
       "        vertical-align: middle;\n",
       "    }\n",
       "\n",
       "    .dataframe tbody tr th {\n",
       "        vertical-align: top;\n",
       "    }\n",
       "\n",
       "    .dataframe thead th {\n",
       "        text-align: right;\n",
       "    }\n",
       "</style>\n",
       "<table border=\"1\" class=\"dataframe\">\n",
       "  <thead>\n",
       "    <tr style=\"text-align: right;\">\n",
       "      <th></th>\n",
       "      <th>Page</th>\n",
       "      <th>Text</th>\n",
       "    </tr>\n",
       "  </thead>\n",
       "  <tbody>\n",
       "    <tr>\n",
       "      <th>0</th>\n",
       "      <td>17</td>\n",
       "      <td>United States v. Trans-Missouri Freight Assn.\\...</td>\n",
       "    </tr>\n",
       "    <tr>\n",
       "      <th>1</th>\n",
       "      <td>18</td>\n",
       "      <td>United States v. Addyston Pipe &amp; Steel Co.\\nFe...</td>\n",
       "    </tr>\n",
       "    <tr>\n",
       "      <th>2</th>\n",
       "      <td>19</td>\n",
       "      <td>19</td>\n",
       "    </tr>\n",
       "    <tr>\n",
       "      <th>3</th>\n",
       "      <td>20</td>\n",
       "      <td>Quick Reference Rules of Law\\n  \\n1.\\nIntersta...</td>\n",
       "    </tr>\n",
       "    <tr>\n",
       "      <th>4</th>\n",
       "      <td>21</td>\n",
       "      <td>conduct. (Concord Boat Corp. v. Brunswick Corp...</td>\n",
       "    </tr>\n",
       "    <tr>\n",
       "      <th>...</th>\n",
       "      <td>...</td>\n",
       "      <td>...</td>\n",
       "    </tr>\n",
       "    <tr>\n",
       "      <th>227</th>\n",
       "      <td>244</td>\n",
       "      <td>Hallie v. City of Eau Claire\\nUnincorporated t...</td>\n",
       "    </tr>\n",
       "    <tr>\n",
       "      <th>228</th>\n",
       "      <td>245</td>\n",
       "      <td>Quicknotes\\nINJUNCTIVE RELIEF\\n A court order ...</td>\n",
       "    </tr>\n",
       "    <tr>\n",
       "      <th>229</th>\n",
       "      <td>246</td>\n",
       "      <td>City of Columbia &amp; Columbia Outdoor Advertisin...</td>\n",
       "    </tr>\n",
       "    <tr>\n",
       "      <th>230</th>\n",
       "      <td>247</td>\n",
       "      <td>247</td>\n",
       "    </tr>\n",
       "    <tr>\n",
       "      <th>231</th>\n",
       "      <td>248</td>\n",
       "      <td>FTC v. Ticor Title Insurance Co.\\nFederal agen...</td>\n",
       "    </tr>\n",
       "  </tbody>\n",
       "</table>\n",
       "<p>232 rows × 2 columns</p>\n",
       "</div>"
      ],
      "text/plain": [
       "     Page                                               Text\n",
       "0      17  United States v. Trans-Missouri Freight Assn.\\...\n",
       "1      18  United States v. Addyston Pipe & Steel Co.\\nFe...\n",
       "2      19                                                 19\n",
       "3      20  Quick Reference Rules of Law\\n  \\n1.\\nIntersta...\n",
       "4      21  conduct. (Concord Boat Corp. v. Brunswick Corp...\n",
       "..    ...                                                ...\n",
       "227   244  Hallie v. City of Eau Claire\\nUnincorporated t...\n",
       "228   245  Quicknotes\\nINJUNCTIVE RELIEF\\n A court order ...\n",
       "229   246  City of Columbia & Columbia Outdoor Advertisin...\n",
       "230   247                                                247\n",
       "231   248  FTC v. Ticor Title Insurance Co.\\nFederal agen...\n",
       "\n",
       "[232 rows x 2 columns]"
      ]
     },
     "execution_count": 174,
     "metadata": {},
     "output_type": "execute_result"
    }
   ],
   "source": [
    "book = pd.read_csv(r'D:\\Proyectos\\nllp_antitrust.v1\\book.csv')\n",
    "book"
   ]
  },
  {
   "cell_type": "code",
   "execution_count": 175,
   "metadata": {},
   "outputs": [],
   "source": [
    "# Extract case_name from text\n",
    "\n",
    "pattern = r'^(.*?)(?=NATURE OF CASE:)'\n",
    "book['case_name'] = book['Text'].str.extract(pattern, flags=re.DOTALL)\n"
   ]
  },
  {
   "cell_type": "code",
   "execution_count": 176,
   "metadata": {},
   "outputs": [],
   "source": [
    "# Extract nature of case from the text\n",
    "pattern = r'NATURE OF CASE:(.*?)(?=FACT SUMMARY:)'\n",
    "book['nature_of_case'] = book['Text'].str.extract(pattern, flags=re.DOTALL)\n"
   ]
  },
  {
   "cell_type": "code",
   "execution_count": 177,
   "metadata": {},
   "outputs": [],
   "source": [
    "# Extract fact summary \n",
    "\n",
    "pattern = r'FACT SUMMARY:(.*?)(?=RULE OF LAW)'\n",
    "book['fact_summary'] = book['Text'].str.extract(pattern, flags=re.DOTALL)"
   ]
  },
  {
   "cell_type": "code",
   "execution_count": 178,
   "metadata": {},
   "outputs": [],
   "source": [
    "# Extract rule of law\n",
    "\n",
    "pattern = r'RULE OF LAW\\n(.*?)(?=FACTS:)'\n",
    "book['rule_of_law'] = book['Text'].str.extract(pattern, flags=re.DOTALL)"
   ]
  },
  {
   "cell_type": "code",
   "execution_count": 180,
   "metadata": {},
   "outputs": [],
   "source": [
    "book.to_csv(r'D:\\Proyectos\\nllp_antitrust.v1\\corpus.csv', index=False)"
   ]
  },
  {
   "cell_type": "code",
   "execution_count": 181,
   "metadata": {},
   "outputs": [
    {
     "name": "stdout",
     "output_type": "stream",
     "text": [
      "<class 'pandas.core.frame.DataFrame'>\n",
      "RangeIndex: 232 entries, 0 to 231\n",
      "Data columns (total 6 columns):\n",
      " #   Column          Non-Null Count  Dtype \n",
      "---  ------          --------------  ----- \n",
      " 0   Page            232 non-null    int64 \n",
      " 1   Text            232 non-null    object\n",
      " 2   case_name       109 non-null    object\n",
      " 3   nature_of_case  109 non-null    object\n",
      " 4   fact_summary    109 non-null    object\n",
      " 5   rule_of_law     109 non-null    object\n",
      "dtypes: int64(1), object(5)\n",
      "memory usage: 11.0+ KB\n"
     ]
    }
   ],
   "source": [
    "book.info()"
   ]
  },
  {
   "cell_type": "code",
   "execution_count": null,
   "metadata": {},
   "outputs": [],
   "source": []
  },
  {
   "cell_type": "code",
   "execution_count": 170,
   "metadata": {},
   "outputs": [
    {
     "data": {
      "text/plain": [
       "'FTC v. Ticor Title Insurance Co.\\nFederal agency (P) v. Insurance Co. (D)\\n504 U.S. 621 (1992).\\nNATURE OF CASE:\\n Appeal from judgment dismissing administrative complaint filed by the Federal Trade\\nCommission (FTC).\\nFACT SUMMARY:\\n After Ticor Title Insurance Co. (D) had its rates set by a title insurance rating bureau\\nlicensed by the state the FTC (P) filed a complaint alleging that the rating system constituted price-fixing.\\nRULE OF LAW\\nIn order to receive immunity from the application of antitrust laws, a state price regulatory system\\nmust be under the active supervision of the state.\\nFACTS:\\n Four states established title insurance rating bureaus which jointly filed insurance rates for Ticor\\nTitle Insurance Co. (Ticor) (D) and other insurance companies (D). Under the system in question, the bureau\\nwould file the rates, and, if the state did not reject them within thirty days, the rates would go into effect.\\nAlthough the mechanisms for review of rates were in place, any review that did occur was cursory. The\\nFederal Trade Commission (FTC) (P) filed a complaint against the insurance companies (D), alleging that\\nthe system constituted price-fixing. The insurance companies (D) claimed that they were entitled to state-\\naction immunity from federal antitrust rules since they were acting pursuant to a government regulatory\\nscheme. The FTC (P) rejected this defense. The court of appeals allowed the defense. The FTC (P) appealed.\\nISSUE:\\n Must a state price regulatory system be under the active supervision of the state to be exempt from\\nthe application of antitrust laws?\\nHOLDING AND DECISION:\\n (Kennedy, J.) Yes. In order to be exempt from the application of antitrust\\nlaws, a state price regulatory system must be under the active supervision of the state. The purpose of\\nimmunity for state action is to allow the state to restrict competition when necessary to achieve important\\ngoals without undermining the federal goals of antitrust. That purpose is achieved by adequate state control\\nover regulatory schemes that justify price-fixing by private parties. Approval by failure to act, i.e., the mere\\npotential for state supervision as provided by the regulatory schemes in this case, does not constitute active\\nsupervision. Reversed and remanded.\\n \\nANALYSIS\\nThis case raises the question of the efficacy of the supervision requirement when a municipality places the\\neconomic decision-making power given to it by the state into the hands of private individuals. Who must\\ndo the supervising: the state or the municipalities? In \\nEnglert v. City of McKeesport\\n, 637 F. Supp. 930\\n(W.D. Pa. 1986), the court held that it is the municipality which is responsible for supervising the conduct\\nof the private parties.\\nQuicknotes\\nPRICE-FIXING\\n An illegal combination in violation of the Sherman Act entered into for the purpose of setting\\nprices below the natural market rate.\\n248'"
      ]
     },
     "execution_count": 170,
     "metadata": {},
     "output_type": "execute_result"
    }
   ],
   "source": [
    "observacion = book['Text'].iloc[231]    \n",
    "observacion  "
   ]
  }
 ],
 "metadata": {
  "kernelspec": {
   "display_name": "nllp_antitrust_v.1",
   "language": "python",
   "name": "python3"
  },
  "language_info": {
   "codemirror_mode": {
    "name": "ipython",
    "version": 3
   },
   "file_extension": ".py",
   "mimetype": "text/x-python",
   "name": "python",
   "nbconvert_exporter": "python",
   "pygments_lexer": "ipython3",
   "version": "3.12.1"
  }
 },
 "nbformat": 4,
 "nbformat_minor": 2
}
